{
 "cells": [
  {
   "cell_type": "markdown",
   "id": "ce2108b8-62ef-4d42-9129-dbe25953c645",
   "metadata": {},
   "source": [
    "# The 1000 Year Island: An Educational Tool for Simulating Natural Selection"
   ]
  },
  {
   "cell_type": "markdown",
   "id": "290005c1-ea9f-4764-ad6e-e38315338e46",
   "metadata": {},
   "source": [
    "By Henry Childs"
   ]
  },
  {
   "cell_type": "markdown",
   "id": "cf6ee392-645d-4062-888b-6fc325e16ae3",
   "metadata": {},
   "source": [
    "--- "
   ]
  },
  {
   "cell_type": "markdown",
   "id": "4a18b573-8aa3-4731-b67c-025b94c2a1e5",
   "metadata": {},
   "source": [
    "## Background\n",
    "- Often, biology lab activities are able to be conducted within 1-2 class periods, and focus on establishing real-world understanding based on presented literature.\n",
    "\n",
    "- However, natural selection presents a unique barrier. Due to the fact that certain processes can take up to millions of years, students are unable to replicate the information presented in textbooks.\n",
    "\n",
    "- This tool is to serve as a lab activity for instruction on natural selection by simulating a hypothetical island containing three antagonistic species. The worksheet can be found here: INSERT (have spaces for resutls of each trial)\n",
    "\n",
    "- Students are encouraged to read through the function of the program in its entirety, and should also explore the cited resources."
   ]
  },
  {
   "cell_type": "markdown",
   "id": "2398ac78-4ee3-462c-a2dc-9b9a3d38bdf9",
   "metadata": {},
   "source": [
    "## The Island\n",
    "- The fictional 1000 year island sets secluded in the Atlantic Ocean. \n",
    "\n",
    "- This isosceles triangle environment is capable of supporting two starting animals per species, with a maximum of 100 animals."
   ]
  },
  {
   "cell_type": "markdown",
   "id": "01639d48-c486-4ce6-8f12-00d8624d1313",
   "metadata": {},
   "source": [
    "## Time\n",
    "- The time unit for this experiment is a century (100 years), with 10 total cycles. \n",
    "\n",
    "- Therefore, there will be a total of 1000 years in the simulation."
   ]
  },
  {
   "cell_type": "markdown",
   "id": "37dd53d5-28f7-4714-8a09-5234e8351b73",
   "metadata": {},
   "source": [
    "## Species\n",
    "- There are two species present on the 1000 year island, with four starting species to choose from:\n",
    "\n",
    "`Galapagos Finches (GF)` the Galapagos finch species is an excellent example of real-world natural selection. In periods of high rain, finches with larger beaks were able to survive better that those with smaller beaks (White, N.D.). Animals in this species are represented with a `GF`, and are capable of the following mutations during the simulation:\n",
    "- Development of curbed beaks (ideal for repelling competitive species)\n",
    "- Development of larger beaks (ideal for gathering high-nutrient resources)\n",
    "- Development of small beaks (not ideal)\n",
    "\n",
    "`Peppered Moths (PM)` the peppered moth is another example of observed natural selection. During the Industrial Revolution, the burning of coal resulted in the darkening of London's trees. Therefore, lighter colored moths were targeted more easily by predator birds (White, N.D.). The peppered moth is represented with a `PM` for this simulation, and has the capability of the following mutations:\n",
    "- Development of spotted pattern (ideal for attracting mates)\n",
    "- Development of darker colors (ideal for evading antagonistic species)\n",
    "- Development of lighter colors (not ideal)\n",
    "\n",
    "`Warrior Ants (WA)` the warrior ant is a fascinating ant species capable of communicating with chemical signals. It has been observed that some have learned to mimic the chemical signal of antagonistic colonies, resulting in invasion and takeover without detection (White, N.D.). The warrior ant is represented with a `WA`, and is capable of the following mutations:\n",
    "- Development of noxious chemical signal (ideal for attacking competitive species)\n",
    "- Development of stronger pheromone signal (ideal for attracting mates)\n",
    "- Development of meaningless chemical signal glands (not ideal)\n",
    "\n",
    "`Deer Mice (DM)` the amazing deer mice species has been observed to exhibit natural selecion after migration to the Nebraska sandhills. The selection for a light brown color allows the species to better hide from predators (White, N.D.). The deer mouse is capable of the following mutations:\n",
    "- Development of spotted pattern (ideal for attracting mates)\n",
    "- Development of lighter colors (ideal for evading attacking species)\n",
    "- Development of darker colors (not ideal)\n",
    "\n",
    "- Each species begins with one males and one females (one couples), each in their own corners."
   ]
  },
  {
   "cell_type": "markdown",
   "id": "19fe63f3-516a-4e72-98fb-9d9c7647818d",
   "metadata": {},
   "source": [
    "## Survival Factors\n",
    "\n",
    "- There are four main factors that dictate if natural selection occurs: reproduction, heredity, characteristic variance, and fitness variance (Braybury, 2017). \n",
    "\n",
    "- The following metrics are included to replicated aspects of each above factor:\n",
    "\n",
    "#### 1. Aggression - `A_factor` \n",
    "- Aggression is a value dictated by necessity and instinct. Of the four starting species, some are given higher values than others based on observed tendecies. \n",
    "\n",
    "- This value will fluctuate throughout the simulation based on a number of events. For example, a species' aggression will increase if there is competition for resources to support an offspring, or decrease if ample spaces are available.\n",
    "\n",
    "#### 2. Fitness - `F_factor`\n",
    "- Fitness is a measure of both offensive and defensive capabilities. The starting value for this metric will vary by species.\n",
    "\n",
    "- This value will also fluctuate throughout the simulation. For example, a mutation that increases camoflauge will increase the species' defensive index.\n",
    "\n",
    "#### 3. Mutation - `M_factor`\n",
    "\n",
    "- Development of new traits from natural selection is the results of proliferation of ideal characteristics from a novel genetic structure.\n",
    "\n",
    "- Each species has four possible mutations, with a small chance for one to occur in each cycle. Undesirable mutations can result in the death of offspring, while ideal traits may thrive.\n",
    "\n",
    "#### 4. Birth Rate - `BR_factor`\n",
    "\n",
    "- As long as a species has one male, one female, and available space, the species will birth as many newborns as there are females. \n",
    "\n",
    "- If space is not available, a confrontation will occur.\n",
    "\n",
    "#### 5. Adverse Weather - `AW_factor`\n",
    "\n",
    "- There is a small chance of disastrous weather to hit the 1000 year island each round. This will significantly impact the populations of both species."
   ]
  },
  {
   "cell_type": "markdown",
   "id": "c2b0cff5-6d63-4692-9e6f-3cc64eae1a0a",
   "metadata": {},
   "source": [
    "### Starting Parameters\n",
    "- Run all ten cycles of the simulation with the following parameters and record the results.\n",
    "\n",
    "- Then, change the below values and record the outcomes. How do certain factors affect the prosperity of each species? Are mutations always helpful? What is the influence of a predator on a species? Do random events influence population growth?"
   ]
  },
  {
   "cell_type": "code",
   "execution_count": 1,
   "id": "31d98271-c53c-4746-aab5-61538ae69006",
   "metadata": {
    "execution": {
     "iopub.execute_input": "2022-05-29T05:57:12.773564Z",
     "iopub.status.busy": "2022-05-29T05:57:12.773564Z",
     "iopub.status.idle": "2022-05-29T05:57:12.779548Z",
     "shell.execute_reply": "2022-05-29T05:57:12.779548Z",
     "shell.execute_reply.started": "2022-05-29T05:57:12.773564Z"
    },
    "tags": []
   },
   "outputs": [],
   "source": [
    "#Universal factors\n",
    "AW_factor = .05 #sets chance for hurricane (maximum is 1 = 100%)\n",
    "\n",
    "species_1 = \"Galapagos finches\" #Galapagos finches or peppered moths\n",
    "species_2 = \"warrior ants\" #warrior ants or deer mice\n",
    "\n",
    "#Species_1 (Galapagos finches or peppered moths)\n",
    "\n",
    "A_factor1 = 0.1 #sets starting aggression value (maximum is 1 = 100%)\n",
    "F_factor1 = 0.5 #sets starting fitness value (maximum is 1 = 100%)\n",
    "M_factor1 = 0.1 #sets chance of mutation (maximum is 1 = 100%)\n",
    "\n",
    "#Species_2 (warrrior ants or deer mice)\n",
    "\n",
    "A_factor2 = 0.5 #sets starting aggression value (maximum is 1 = 100%)\n",
    "F_factor2 = 0.6 #sets starting fitness valuem (maximum is 1 = 100%)\n",
    "M_factor2 = 0.1 #sets chance of mutation (maximum is 1 = 100%)"
   ]
  },
  {
   "cell_type": "code",
   "execution_count": 2,
   "id": "0b2f139a-02b3-4f1f-9c2a-1f3022720ef0",
   "metadata": {
    "execution": {
     "iopub.execute_input": "2022-05-29T05:57:13.327348Z",
     "iopub.status.busy": "2022-05-29T05:57:13.323354Z",
     "iopub.status.idle": "2022-05-29T05:57:13.338611Z",
     "shell.execute_reply": "2022-05-29T05:57:13.338611Z",
     "shell.execute_reply.started": "2022-05-29T05:57:13.323354Z"
    },
    "tags": []
   },
   "outputs": [],
   "source": [
    "#creates starting male and female populations\n",
    "M1 = 2\n",
    "F1 = 2\n",
    "M2 = 2\n",
    "F2 = 2\n",
    "\n",
    "def island_population():\n",
    "    total1 = M1 + F1\n",
    "    float_total1 = float(total1)\n",
    "    int_total1 = int(float_total1)\n",
    "    print(\"The current number of \" + species_1 + \" is \" + str(int_total1) + \".\")\n",
    "    total2 = M2 + F2\n",
    "    float_total2 = float(total2)\n",
    "    int_total2 = int(float_total2)\n",
    "    print(\"The current number of \" + species_2 + \" is \" + str(int_total2) + \".\")\n",
    "    total = M1 + F1 + M2 + F2\n",
    "    float_total = float(total)\n",
    "    int_total = int(float_total)\n",
    "    print(\"The total number of animals on the island is \" + str(int_total) + \".\")"
   ]
  },
  {
   "cell_type": "code",
   "execution_count": 3,
   "id": "40736d72-24f2-4597-baf5-e8d7965671dd",
   "metadata": {
    "execution": {
     "iopub.execute_input": "2022-05-29T05:57:13.798823Z",
     "iopub.status.busy": "2022-05-29T05:57:13.798823Z",
     "iopub.status.idle": "2022-05-29T05:57:13.814765Z",
     "shell.execute_reply": "2022-05-29T05:57:13.814765Z",
     "shell.execute_reply.started": "2022-05-29T05:57:13.798823Z"
    },
    "tags": []
   },
   "outputs": [],
   "source": [
    "#Aggression function (calculates value)\n",
    "\n",
    "def A_function():\n",
    "    global A_factor1, A_factor2\n",
    "    #check species 1\n",
    "    if A_factor1 > 1:\n",
    "        A_factor1 = 1\n",
    "    if (M1 + F1) >= 50:\n",
    "        difference1 = (1 - A_factor1) / 2\n",
    "        A_factor1 += difference1\n",
    "    if (M1 + F1) <= 25 and A_factor1 >= 0.1:\n",
    "        A_factor1 = A_factor1 - 0.05\n",
    "\n",
    "    #check species 2\n",
    "    if A_factor2 > 1:\n",
    "        A_factor2 = 1\n",
    "    if (M2 + F2) >= 50:\n",
    "        difference2 = (1 - A_factor2) / 2\n",
    "        A_factor2 += difference2\n",
    "    if (M2 + F2) <= 25 and A_factor2 >= 0.1:\n",
    "        A_factor2 = A_factor2 - 0.05"
   ]
  },
  {
   "cell_type": "code",
   "execution_count": 4,
   "id": "982679f9-38c1-4096-b9e0-6398d0b15ec8",
   "metadata": {
    "execution": {
     "iopub.execute_input": "2022-05-29T05:57:14.237147Z",
     "iopub.status.busy": "2022-05-29T05:57:14.237147Z",
     "iopub.status.idle": "2022-05-29T05:57:14.252843Z",
     "shell.execute_reply": "2022-05-29T05:57:14.252843Z",
     "shell.execute_reply.started": "2022-05-29T05:57:14.237147Z"
    },
    "tags": []
   },
   "outputs": [],
   "source": [
    "#Fitness function (calculates value)\n",
    "\n",
    "def F_function():\n",
    "    global F_factor1, attack1, defense1, F_factor2, attack2, defense2\n",
    "    #check species 1\n",
    "    if F_factor1 > 1:\n",
    "        F_factor1  = 1\n",
    "    defense1 = F_factor1 / 2\n",
    "    attack1 = (F_factor1 / 2) + A_factor1\n",
    "\n",
    "    #check species 2\n",
    "    if F_factor2 > 1:\n",
    "        F_factor2  = 1\n",
    "    defense2 = F_factor2 / 2\n",
    "    attack2 = (F_factor2 / 2) + A_factor2"
   ]
  },
  {
   "cell_type": "code",
   "execution_count": 5,
   "id": "ac289cd1-4388-43d6-88b7-ce1ac9688933",
   "metadata": {
    "execution": {
     "iopub.execute_input": "2022-05-29T05:57:14.695470Z",
     "iopub.status.busy": "2022-05-29T05:57:14.695470Z",
     "iopub.status.idle": "2022-05-29T05:57:14.729162Z",
     "shell.execute_reply": "2022-05-29T05:57:14.728431Z",
     "shell.execute_reply.started": "2022-05-29T05:57:14.695470Z"
    },
    "tags": []
   },
   "outputs": [],
   "source": [
    "#Birth Rate function (creates offspring and determines if confrontation occurs)\n",
    "import random\n",
    "\n",
    "def offspring_mortality():\n",
    "    num_list = [0, 1, 2, 3, 5]\n",
    "    num_deaths = random.choice(tuple(num_list))\n",
    "    return num_deaths\n",
    "\n",
    "new_birth1 = 0\n",
    "new_birth2 = 0\n",
    "increased_birth1 = 0\n",
    "increased_birth2 = 0\n",
    "\n",
    "def BR_function():\n",
    "    global new_birth1, M1, F1, new_birth2, M2, F2\n",
    "    \n",
    "    if (M1 + F1 + M2 + F2) >= 100:\n",
    "        print(\"The island has reached maximum capacity. No new births can be supported, and some animals may have died due to low resources.\")\n",
    "        total_diff = ((M1 + F1 + M2 + F2) - 100) + 0.5\n",
    "        reduce_F1 = round(total_diff / 2)\n",
    "        if (F1 - reduce_F1) > 0:\n",
    "            F1 = F1 - reduce_F1\n",
    "        if (F1 - reduce_F1) > 100:\n",
    "            F1 = 40\n",
    "            M1 = 60\n",
    "        reduce_F2 = round(total_diff / 2)\n",
    "        if (F2 - reduce_F2) > 0:\n",
    "            F2 = F2 - reduce_F2\n",
    "        if (F2 - reduce_F2) > 100:\n",
    "            F2 = 40\n",
    "            M2 = 60\n",
    "        return\n",
    "    \n",
    "    #check species 1\n",
    "    if (M1 + F1 + M2 + F2) < 100:\n",
    "        if M1 >= 1 and F1 >= 1:\n",
    "            new_birth1 = (F1 * 2) - (offspring_mortality() * round(F1 * 0.20)) + increased_birth1\n",
    "            if new_birth1 < 0:\n",
    "                new_birth1 = 0\n",
    "            if new_birth1 % 2 == 0 and new_birth1 > 0:\n",
    "                M1 = M1 + (new_birth1 / 2)\n",
    "                F1 = F1 + (new_birth1 / 2)\n",
    "            else:\n",
    "                M1 = M1 + (new_birth1 / 2) + 0.5\n",
    "                F1 = F1 + (new_birth1 / 2) - 0.5\n",
    "            float_new_birth1 = float(new_birth1)\n",
    "            int_new_birth1 = int(float_new_birth1)\n",
    "            if new_birth1 > 0:\n",
    "                print(\"The \" + species_1 + \" have birthed \" + str(int_new_birth1) + \" new offspring.\")\n",
    "        if M1 < 1 or F1 < 1:\n",
    "            print(\"The \" + species_1 + \" have an insufficient population to birth new offspring.\")\n",
    "        if (M1 + F1) == 100:\n",
    "            print(\"The population of \" + species_1 + \" has reached the maximum capacity of 100.\")\n",
    "        \n",
    "        #check species 2\n",
    "        if M2 >= 1 and F2 >= 1:\n",
    "            new_birth2 = (F2 * 2) - (offspring_mortality() * round(F2 * .20)) + increased_birth2\n",
    "            if new_birth2 < 0:\n",
    "                new_birth2 = 0\n",
    "            if new_birth2 % 2 == 0 and new_birth2 > 0:\n",
    "                M2 = M2 + (new_birth2 / 2)\n",
    "                F2 = F2 + (new_birth2 / 2)\n",
    "            else:\n",
    "                M2 = M2 + (new_birth2 / 2) + 0.5\n",
    "                F2 = F2 + (new_birth2 / 2) - 0.5\n",
    "            float_new_birth2 = float(new_birth2)\n",
    "            int_new_birth2 = int(float_new_birth2)\n",
    "            if new_birth2 > 0:\n",
    "                print(\"The \" + species_2 + \" have birthed \" + str(int_new_birth2) + \" new offspring.\")\n",
    "        if M2 < 1 or F2 < 1:\n",
    "            print(\"The \" + species_2 + \" have an insufficient population to birth new offspring.\")\n",
    "        if (M2 + F2) == 100:\n",
    "            print(\"The population of \" + species_2 + \" has reached the maximum capacity of 100.\")\n",
    "\n",
    "    if (M1 + F1 + M2 + F2) >= 100:\n",
    "        print(\"The island has reached maximum capacity. No new births can be supported, and some animals may have died due to low resources.\")\n",
    "        total_diff = ((M1 + F1 + M2 + F2) - 100) + 0.5\n",
    "        reduce_F1 = round(total_diff / 2)\n",
    "        if (F1 - reduce_F1) > 0:\n",
    "            F1 = F1 - reduce_F1\n",
    "        if (F1 - reduce_F1) > 100:\n",
    "            F1 = 40\n",
    "            M1 = 60\n",
    "        reduce_F2 = round(total_diff / 2)\n",
    "        if (F2 - reduce_F2) > 0:\n",
    "            F2 = F2 - reduce_F2\n",
    "        if (F2 - reduce_F2) > 100:\n",
    "            F2 = 40\n",
    "            M2 = 60\n",
    "\n",
    "        \n",
    "def confrontation_function_species1():\n",
    "    gender_list1 = [\"M1\", \"F1\"]\n",
    "    gender_list2 = [\"M2\", \"F2\"]\n",
    "    gender_death1 = random.choice(tuple(gender_list1))\n",
    "    gender_death2 = random.choice(tuple(gender_list2))\n",
    "    \n",
    "    global M1, F1, M2, F2\n",
    "    #species 1 attack\n",
    "    if (M1 + F1) >= 40 and ((M1+F1) - ((M1+F1) * .40)) >= 1 and ((M2+F2) - ((M2+F2) * .40)) >= 1:\n",
    "        fight_diff = (attack1) - (defense2 * A_factor2)\n",
    "        if fight_diff > 0:\n",
    "            if gender_death2 == \"M2\":\n",
    "                lossM2 = round(M2 * .20) + 1\n",
    "                M2 = M2 - lossM2\n",
    "                print(\"The \" + species_1 + \" population required more resources, prompting a confrontation with the \" + species_2 + \". The \" + species_2 + \" have suffered \" + str(lossM2) + \" male deaths.\")\n",
    "            else:\n",
    "                lossF2 = round(F2 * .20) + 1\n",
    "                F2 = F2 - lossF2\n",
    "                print(\"The \" + species_1 + \" population required more resources, prompting a confrontation with the \" + species_2 + \". The \" + species_2 + \" have suffered \" + str(lossF2) + \" female deaths.\")\n",
    "        if fight_diff < 0:\n",
    "            if gender_death1 == \"M1\":\n",
    "                lossM1 = round(M1 * .20) + 1\n",
    "                M1 = M1 - lossM1\n",
    "                print(\"The \" + species_1 + \" population required more resources, prompting a confrontation with the \" + species_2 + \". The \" + species_1 + \" have suffered \" + str(lossM1) + \" male deaths.\")\n",
    "            else:\n",
    "                lossF1 = round(F1 * .20) + 1\n",
    "                F1 = F1 - lossF1\n",
    "                print(\"The \" + species_1 + \" population required more resources, prompting a confrontation with the \" + species_2 + \". The \" + species_1 + \" have suffered \" + str(lossF1) + \" female deaths.\")\n",
    "        if fight_diff == 0:\n",
    "            lossM1 = round(M1 * .20) + 1\n",
    "            lossM2 = round(M2 * .20) + 1\n",
    "            print(\"The \" + species_1 + \" population required more resources, prompting a confrontation with the \" + species_2 + \". The \" + species_1 + \" suffered \" + str(lossM1) + \" male deaths and the \" + species_2 + \"  suffered \" + str(lossM2) + \" male deaths.\")\n",
    "    else:\n",
    "        print(\"The \" + species_1 + \" prompted no confrontation due to resource availability.\")\n",
    "        \n",
    "def confrontation_function_species2():\n",
    "    gender_list1 = [\"M1\", \"F1\"]\n",
    "    gender_list2 = [\"M2\", \"F2\"]\n",
    "    gender_death1 = random.choice(tuple(gender_list1))\n",
    "    gender_death2 = random.choice(tuple(gender_list2))\n",
    "    \n",
    "    global M1, F1, M2, F2\n",
    "    \n",
    "    #species 2 attack\n",
    "    if (M2 + F2) >= 40 and ((M1+F1) - ((M1+F1) * .40)) >= 1 and ((M2+F2) - ((M2+F2) * .40)) >= 1:\n",
    "        fight_diff = (attack2) - (defense1 + A_factor1)\n",
    "        if fight_diff > 0:\n",
    "            if gender_death1 == \"M1\":\n",
    "                lossM1 = round(M1 * .20) + 1\n",
    "                M1 = M1 - lossM1\n",
    "                print(\"The \" + species_2 + \" population required more resources, prompting a confrontation with the \" + species_1 + \". The \" + species_1 + \" have suffered \" + str(lossM1) + \" male deaths.\")\n",
    "            else:\n",
    "                lossF1 = round(F1 * .20) + 1\n",
    "                F1 = F1 - lossF1\n",
    "                print(\"The \" + species_2 + \" population required more resources, prompting a confrontation with the \" + species_1 + \". The \" + species_1 + \" have suffered \" + str(lossF1) + \" female deaths.\")\n",
    "        if fight_diff < 0:\n",
    "            if gender_death2 == \"M2\":\n",
    "                lossM2 = round(M2 * .20) + 1\n",
    "                M2 = M2 - lossM2\n",
    "                print(\"The \" + species_2 + \" population required more resources, prompting a confrontation with the \" + species_1 + \". The \" + species_2 + \" have suffered \" + str(lossM2) + \" male deaths.\")\n",
    "            else:\n",
    "                lossF2 = round(F2 * .20) + 1\n",
    "                F2 = F2 - lossF2\n",
    "                print(\"The \" + species_2 + \" population required more resources, prompting a confrontation with the \" + species_1 + \". The \" + species_2 + \" have suffered \" + str(lossF2) + \" female deaths.\")\n",
    "        if fight_diff == 0:\n",
    "            lossM1 = round(M1 * .20) + 1\n",
    "            M1 = M1 - lossM1\n",
    "            lossM2 = round(M2 * .20) + 1\n",
    "            M2 = M2 - lossM2\n",
    "            print(\"The \" + species_2 + \" population required more resources, prompting a confrontation with the \" + species_1 + \". The \" + species_2 + \" suffered \" + str(lossM2) + \" male deaths, and the \" + species_1 + \" suffered \" + str(lossM1) + \" male deaths.\")\n",
    "    else:\n",
    "        print(\"The \" + species_2 + \" prompted no confrontation due to resource availability.\")"
   ]
  },
  {
   "cell_type": "code",
   "execution_count": 6,
   "id": "8fcfb54c-fdaf-4f2f-bc2b-ad5061151eea",
   "metadata": {
    "execution": {
     "iopub.execute_input": "2022-05-29T05:57:15.153687Z",
     "iopub.status.busy": "2022-05-29T05:57:15.149682Z",
     "iopub.status.idle": "2022-05-29T05:57:15.177552Z",
     "shell.execute_reply": "2022-05-29T05:57:15.177552Z",
     "shell.execute_reply.started": "2022-05-29T05:57:15.153687Z"
    },
    "tags": []
   },
   "outputs": [],
   "source": [
    "#Mutation function (determines if occurs and effects)\n",
    "\n",
    "#GF mutations\n",
    "GF_mutations = [\"Curved Beak\", \"Larger Beak\", \"Small Beak\"]\n",
    "#PM mutations\n",
    "PM_mutations = [\"Spotted Pattern\", \"Darker Colors\", \"Lighter Colors\"]\n",
    "#WA mutations\n",
    "WA_mutations = [\"Noxious Chemical Signal\", \"Stronger Pheromones\", \"Meaningless Signal Glands\"]\n",
    "#DM mutations\n",
    "DM_mutations = [\"Spotted Pattern\", \"Lighter Colors\", \"Darker Colors\"]\n",
    "\n",
    "def M_function():\n",
    "    global GF_mutations, PM_mutations, WA_mutations, DM_mutations, attack1, defense1, increased_birth1, A_factor1, attack2, defense2, increased_birth2, A_factor2\n",
    "    #percent chance list\n",
    "    chance_list = [0, 0, 0, 0, 0, 0, 0, 0, 0, 0, 0, 0, 0, 2, 4]\n",
    "    M_chance = random.choice(tuple(chance_list))\n",
    "    \n",
    "    M_happens1 = (M_chance * M_factor1) + ((M1 + F1) / 100)\n",
    "    M_happens2 = (M_chance * M_factor2) + ((M2 + F2) / 100)\n",
    "    \n",
    "    #check species 1\n",
    "    if len(GF_mutations) == 0 or len(PM_mutations) == 0 or new_birth1 < 1 or M_happens1 < 0.5:\n",
    "        print(\"No mutation has occured in this cycle for the \" + species_1 + \".\")\n",
    "    if new_birth1 >= 1 and M_happens1 >= 0.5 and len(GF_mutations) > 0 and len(PM_mutations) > 0:\n",
    "        if species_1 == \"Galapagos finches\" and len(GF_mutations) >= 1:\n",
    "            GF_Mutation = random.choice(tuple(GF_mutations))\n",
    "            if GF_Mutation != \"Small Beak\":\n",
    "                GF_mutations.remove(GF_Mutation)\n",
    "            if GF_Mutation != \"Small Beak\" and \"Small Beak\" in GF_mutations:\n",
    "                GF_mutations.remove(\"Small Beak\")\n",
    "            if GF_Mutation == \"Small Beak\":\n",
    "                GF_mutations.remove(GF_Mutation)\n",
    "            species1_mutation = GF_Mutation\n",
    "            #effects\n",
    "            if species1_mutation == \"Curved Beak\":\n",
    "                defense1 += 0.1\n",
    "            if species1_mutation == \"Larger Beak\":\n",
    "                increased_birth1 += 1\n",
    "                A_factor1 += 0.1\n",
    "            if species1_mutation == \"Small Beak\":\n",
    "                defense1 = defense1 - 0.1\n",
    "                A_factor1 =  A_factor1 - 0.1\n",
    "            print(\"The \" + species_1 + \" have evolved the trait \" + species1_mutation + \" during this cycle.\")\n",
    "        if species_1 == \"peppered moths\" and len(PM_mutations) >= 1:       \n",
    "            PM_Mutation = random.choice(tuple(PM_mutations))\n",
    "            if PM_Mutation != \"Lighter Colors\":\n",
    "                PM_mutations.remove(PM_mutation)\n",
    "            if PM_Mutation != \"Lighter Colors\" and \"Lighter Colors\" in PM_mutations:\n",
    "                PM_mutations.remove(\"Lighter Colors\")\n",
    "            if PM_Mutation == \"Lighter Colors\":\n",
    "                PM_mutations.remove(PM_Mutation)\n",
    "            species1_mutation = PM_Mutation\n",
    "            #effects\n",
    "            if species1_mutation == \"Spotted Pattern\":\n",
    "                increased_birth1 += 1\n",
    "            if species1_mutation == \"Darker Colors\":\n",
    "                defense1 += 0.1\n",
    "            if species1_mutation == \"Lighter Colors\":\n",
    "                defense1 = defense1 - 0.1\n",
    "            print(\"The \" + species_1 + \" have evolved the trait \" + species1_mutation + \" during this cycle.\")\n",
    "    \n",
    "    #check species 2\n",
    "    if len(WA_mutations) == 0 or len(DM_mutations) == 0 or new_birth2 < 1 or M_happens2 < 0.5:\n",
    "        print(\"No mutation has occured in this cycle for the \" + species_2 + \".\")\n",
    "    if new_birth2 >= 1 and M_happens2 >= 0.5 and len(WA_mutations) > 0 and len(DM_mutations) > 0:\n",
    "        if species_2 == \"warrior ants\" and len(WA_mutations) >= 1:\n",
    "            WA_Mutation = random.choice(tuple(WA_mutations))\n",
    "            if WA_Mutation != \"Meaningless Signal Glands\":\n",
    "                WA_mutations.remove(WA_Mutation)\n",
    "            if WA_Mutation != \"Meaningless Signal Glands\" and \"Meaningless Signal Glands\" in WA_mutations:\n",
    "                WA_mutations.remove(\"Meaningless Signal Glands\")\n",
    "            if WA_Mutation == \"Meaningless Signal Glands\":\n",
    "                WA_mutations.remove(WA_Mutation)\n",
    "            species2_mutation = WA_Mutation\n",
    "            #effects\n",
    "            if species2_mutation == \"Noxious Chemical Signal\":\n",
    "                attack2 += 0.1\n",
    "            if species2_mutation == \"Stronger Pheromones\":\n",
    "                increased_birth2 += 1\n",
    "            if species2_mutation == \"Meaningless Signal Glands\":\n",
    "                increased_birth2 = 0\n",
    "                attack2 = attack2 - 0.1\n",
    "            print(\"The \" + species_2 + \" have evolved the trait \" + species2_mutation + \" during this cycle.\")\n",
    "        if species_2 == \"deer mice\" and len(DM_mutations) >= 1:      \n",
    "            DM_Mutation = random.choice(tuple(DM_mutations))\n",
    "            if DM_Mutation != \"Darker Colors\":\n",
    "                DM_mutations.remove(DM_Mutation)\n",
    "            if DM_Mutation != \"Darker Colors\" and \"Darker Colors\" in DM_mutations:\n",
    "                DM_mutations.remove(\"Darker Colors\")\n",
    "            if DM_Mutation == \"Darker Colors\":\n",
    "                DM_mutations.remove(DM_Mutation)\n",
    "            species2_mutation = DM_mutation\n",
    "            #effects\n",
    "            if species2_mutation == \"Spotted Pattern\":\n",
    "                increased_birth2 += 1\n",
    "            if species2_mutation == \"Lighter Colors\":\n",
    "                defense2 += 0.1\n",
    "            if species2_mutation == \"Darker Colors\":\n",
    "                defense2 =  defense2 - 0.1\n",
    "            print(\"The \" + species_2 + \" have evolved the trait \" + species2_mutation + \" during this cycle.\")\n"
   ]
  },
  {
   "cell_type": "code",
   "execution_count": 7,
   "id": "8b4d2560-2e59-4c7a-9be1-1de86db5119d",
   "metadata": {
    "execution": {
     "iopub.execute_input": "2022-05-29T05:57:15.592383Z",
     "iopub.status.busy": "2022-05-29T05:57:15.592383Z",
     "iopub.status.idle": "2022-05-29T05:57:15.615780Z",
     "shell.execute_reply": "2022-05-29T05:57:15.615780Z",
     "shell.execute_reply.started": "2022-05-29T05:57:15.592383Z"
    },
    "tags": []
   },
   "outputs": [],
   "source": [
    "#Adverse weather function (determines if event occurs, and if so, its effects)\n",
    "\n",
    "#Hurricane function\n",
    "def Hurricane_function():\n",
    "    chance_list = [0.0, 0.0, 0.0, 0.0, 0.0, 0.0, 2.0, 4.0]\n",
    "    H_chance = random.choice(tuple(chance_list))\n",
    "    H_happen = (AW_factor * H_chance)\n",
    "    \n",
    "    global M1, F1, M2, F2\n",
    "    if H_happen >= 0.5:\n",
    "        if M1 % 2 == 0 and M1 >= 2:\n",
    "            lossM1 = M1 / 2\n",
    "            float_lossM1 = float(lossM1)\n",
    "            int_lossM1 = int(float_lossM1)\n",
    "            M1 =  M1 - lossM1\n",
    "        if M1 % 2 == 1 and M1 >= 3:\n",
    "            lossM1 = (M1 / 2) - 0.5\n",
    "            float_lossM1 = float(lossM1)\n",
    "            int_lossM1 = int(float_lossM1)\n",
    "            M1 = M1 - lossM1\n",
    "        if F1 % 2 == 0 and F1 >= 2:\n",
    "            lossF1 = F1 / 2\n",
    "            float_lossF1 = float(lossF1)\n",
    "            int_lossF1 = int(float_lossF1)\n",
    "            F1 = F1 - lossF1\n",
    "        if F1 % 2 == 1 and F1 >= 3:\n",
    "            lossF1 = (F1 / 2) - 0.5\n",
    "            float_lossF1 = float(lossF1)\n",
    "            int_lossF1 = int(float_lossF1)\n",
    "            F1 = F1 - lossF1\n",
    "        if M2 % 2 == 0 and M2 >= 2:\n",
    "            lossM2 = M2 / 2\n",
    "            float_lossM2 = float(lossM2)\n",
    "            int_lossM2 = int(float_lossM2)\n",
    "            M2 = M2 - lossM2\n",
    "        if M2 % 2 == 1 and M2 >= 3:\n",
    "            lossM2 = (M2 / 2) - 0.5\n",
    "            float_lossM2 = float(lossM2)\n",
    "            int_lossM2 = int(float_lossM2)\n",
    "            M2 = M2 - lossM2\n",
    "        if F2 % 2 == 0 and F2 >= 2:\n",
    "            lossF2 = F2 / 2\n",
    "            float_lossF2 = float(lossF2)\n",
    "            int_lossF2 = int(float_lossF2)\n",
    "            F2 = F2 - lossF2\n",
    "        if F2 % 2 == 1 and F2 >= 3:\n",
    "            lossF2 = (F2 / 2) - 0.5\n",
    "            float_lossF2 = float(lossF2)\n",
    "            int_lossF2 = int(float_lossF2)\n",
    "            F2 = F2 - lossF2\n",
    "        print(\"Hurricane:\")\n",
    "        print(\"A hurricane has struck the 1000 year island!\")\n",
    "        print(\"The \" + species_1 + \" has suffered \" + lossM1 + \" male deaths and \" + lossF1 + \" female deaths.\")\n",
    "        print(\"The \" + species_2 + \" has suffered \" + lossM2 + \" male deaths and \" + lossF2 + \" female deaths.\")\n",
    "        print(\"\\n\")\n"
   ]
  },
  {
   "cell_type": "markdown",
   "id": "ce18ada1-52ed-4e9d-bcf7-b301fde9f854",
   "metadata": {},
   "source": [
    "---"
   ]
  },
  {
   "cell_type": "markdown",
   "id": "5c5e4c7e-186f-4331-8c3f-273347db5e41",
   "metadata": {},
   "source": [
    "# Initial Conditions"
   ]
  },
  {
   "cell_type": "code",
   "execution_count": 8,
   "id": "b6927c51-e2fc-4d5a-814e-8497825fdae9",
   "metadata": {
    "execution": {
     "iopub.execute_input": "2022-05-29T05:57:16.770667Z",
     "iopub.status.busy": "2022-05-29T05:57:16.770667Z",
     "iopub.status.idle": "2022-05-29T05:57:16.790255Z",
     "shell.execute_reply": "2022-05-29T05:57:16.790255Z",
     "shell.execute_reply.started": "2022-05-29T05:57:16.770667Z"
    },
    "tags": []
   },
   "outputs": [
    {
     "name": "stdout",
     "output_type": "stream",
     "text": [
      "Initial population: \n",
      "The current number of Galapagos finches is 4.\n",
      "The current number of warrior ants is 4.\n",
      "The total number of animals on the island is 8.\n"
     ]
    }
   ],
   "source": [
    "print(\"Initial population: \")\n",
    "island_population()"
   ]
  },
  {
   "cell_type": "markdown",
   "id": "5218789e-9eca-4436-8dd3-b18d56689e0f",
   "metadata": {},
   "source": [
    "# Cycle 1 (Years 1 - 100)"
   ]
  },
  {
   "cell_type": "code",
   "execution_count": 9,
   "id": "e10db5cd-63c1-41af-8ba0-490ab26f24ce",
   "metadata": {
    "execution": {
     "iopub.execute_input": "2022-05-29T05:57:17.524122Z",
     "iopub.status.busy": "2022-05-29T05:57:17.524122Z",
     "iopub.status.idle": "2022-05-29T05:57:17.534094Z",
     "shell.execute_reply": "2022-05-29T05:57:17.534094Z",
     "shell.execute_reply.started": "2022-05-29T05:57:17.524122Z"
    },
    "tags": []
   },
   "outputs": [
    {
     "name": "stdout",
     "output_type": "stream",
     "text": [
      "Births: \n",
      "The Galapagos finches have birthed 4 new offspring.\n",
      "The warrior ants have birthed 4 new offspring.\n",
      "\n",
      "\n",
      "Confrontations: \n",
      "The Galapagos finches prompted no confrontation due to resource availability.\n",
      "The warrior ants prompted no confrontation due to resource availability.\n",
      "\n",
      "\n",
      "Mutations: \n",
      "No mutation has occured in this cycle for the Galapagos finches.\n",
      "No mutation has occured in this cycle for the warrior ants.\n",
      "\n",
      "\n",
      "Population information:\n",
      "The current number of Galapagos finches is 8.\n",
      "The current number of warrior ants is 8.\n",
      "The total number of animals on the island is 16.\n"
     ]
    }
   ],
   "source": [
    "#Runs Cycle 1\n",
    "A_function()\n",
    "F_function()\n",
    "print(\"Births: \")\n",
    "BR_function()\n",
    "print(\"\\n\")\n",
    "print(\"Confrontations: \")\n",
    "confrontation_function_species1()\n",
    "confrontation_function_species2()\n",
    "print(\"\\n\")\n",
    "print(\"Mutations: \")\n",
    "M_function()\n",
    "print(\"\\n\")\n",
    "Hurricane_function()\n",
    "print(\"Population information:\")\n",
    "island_population()"
   ]
  },
  {
   "cell_type": "markdown",
   "id": "15c7b886-b5c5-4805-87d7-90d408c4cb9e",
   "metadata": {},
   "source": [
    "# Cycle 2 (Years 101 - 200)"
   ]
  },
  {
   "cell_type": "code",
   "execution_count": 10,
   "id": "204e23ed-886b-4151-9c1d-bbab92ab69eb",
   "metadata": {
    "execution": {
     "iopub.execute_input": "2022-05-29T05:57:18.217869Z",
     "iopub.status.busy": "2022-05-29T05:57:18.217869Z",
     "iopub.status.idle": "2022-05-29T05:57:18.237857Z",
     "shell.execute_reply": "2022-05-29T05:57:18.237857Z",
     "shell.execute_reply.started": "2022-05-29T05:57:18.217869Z"
    },
    "tags": []
   },
   "outputs": [
    {
     "name": "stdout",
     "output_type": "stream",
     "text": [
      "Births: \n",
      "The Galapagos finches have birthed 5 new offspring.\n",
      "The warrior ants have birthed 7 new offspring.\n",
      "\n",
      "\n",
      "Confrontations: \n",
      "The Galapagos finches prompted no confrontation due to resource availability.\n",
      "The warrior ants prompted no confrontation due to resource availability.\n",
      "\n",
      "\n",
      "Mutations: \n",
      "No mutation has occured in this cycle for the Galapagos finches.\n",
      "No mutation has occured in this cycle for the warrior ants.\n",
      "\n",
      "\n",
      "Population information:\n",
      "The current number of Galapagos finches is 13.\n",
      "The current number of warrior ants is 15.\n",
      "The total number of animals on the island is 28.\n"
     ]
    }
   ],
   "source": [
    "#Runs Cycle 2\n",
    "A_function()\n",
    "F_function()\n",
    "print(\"Births: \")\n",
    "BR_function()\n",
    "print(\"\\n\")\n",
    "print(\"Confrontations: \")\n",
    "confrontation_function_species1()\n",
    "confrontation_function_species2()\n",
    "print(\"\\n\")\n",
    "print(\"Mutations: \")\n",
    "M_function()\n",
    "print(\"\\n\")\n",
    "Hurricane_function()\n",
    "print(\"Population information:\")\n",
    "island_population()"
   ]
  },
  {
   "cell_type": "markdown",
   "id": "ab31f248-1ba8-4ca2-8f17-bec3a103affc",
   "metadata": {},
   "source": [
    "# Cycle 3 (Years 201 - 300)"
   ]
  },
  {
   "cell_type": "code",
   "execution_count": 11,
   "id": "a8e90392-3b2a-4670-a5c3-9aba74b82aee",
   "metadata": {
    "execution": {
     "iopub.execute_input": "2022-05-29T05:57:18.895209Z",
     "iopub.status.busy": "2022-05-29T05:57:18.893754Z",
     "iopub.status.idle": "2022-05-29T05:57:18.912984Z",
     "shell.execute_reply": "2022-05-29T05:57:18.912984Z",
     "shell.execute_reply.started": "2022-05-29T05:57:18.895209Z"
    },
    "tags": []
   },
   "outputs": [
    {
     "name": "stdout",
     "output_type": "stream",
     "text": [
      "Births: \n",
      "The Galapagos finches have birthed 12 new offspring.\n",
      "The warrior ants have birthed 12 new offspring.\n",
      "\n",
      "\n",
      "Confrontations: \n",
      "The Galapagos finches prompted no confrontation due to resource availability.\n",
      "The warrior ants prompted no confrontation due to resource availability.\n",
      "\n",
      "\n",
      "Mutations: \n",
      "No mutation has occured in this cycle for the Galapagos finches.\n",
      "No mutation has occured in this cycle for the warrior ants.\n",
      "\n",
      "\n",
      "Population information:\n",
      "The current number of Galapagos finches is 25.\n",
      "The current number of warrior ants is 27.\n",
      "The total number of animals on the island is 52.\n"
     ]
    }
   ],
   "source": [
    "#Runs Cycle 3\n",
    "A_function()\n",
    "F_function()\n",
    "print(\"Births: \")\n",
    "BR_function()\n",
    "print(\"\\n\")\n",
    "print(\"Confrontations: \")\n",
    "confrontation_function_species1()\n",
    "confrontation_function_species2()\n",
    "print(\"\\n\")\n",
    "print(\"Mutations: \")\n",
    "M_function()\n",
    "print(\"\\n\")\n",
    "Hurricane_function()\n",
    "print(\"Population information:\")\n",
    "island_population()"
   ]
  },
  {
   "cell_type": "markdown",
   "id": "2a77261a-5d1a-40f1-88eb-84cc2c33f95c",
   "metadata": {},
   "source": [
    "# Cycle 4 (Years 301 - 400)"
   ]
  },
  {
   "cell_type": "code",
   "execution_count": 12,
   "id": "f25dd1a0-6241-414d-bd11-5ce837539564",
   "metadata": {
    "execution": {
     "iopub.execute_input": "2022-05-29T05:57:19.589877Z",
     "iopub.status.busy": "2022-05-29T05:57:19.589877Z",
     "iopub.status.idle": "2022-05-29T05:57:19.601852Z",
     "shell.execute_reply": "2022-05-29T05:57:19.601852Z",
     "shell.execute_reply.started": "2022-05-29T05:57:19.589877Z"
    },
    "tags": []
   },
   "outputs": [
    {
     "name": "stdout",
     "output_type": "stream",
     "text": [
      "Births: \n",
      "The Galapagos finches have birthed 20 new offspring.\n",
      "The warrior ants have birthed 20 new offspring.\n",
      "\n",
      "\n",
      "Confrontations: \n",
      "The Galapagos finches population required more resources, prompting a confrontation with the warrior ants. The warrior ants have suffered 6 male deaths.\n",
      "The warrior ants population required more resources, prompting a confrontation with the Galapagos finches. The Galapagos finches have suffered 6 male deaths.\n",
      "\n",
      "\n",
      "Mutations: \n",
      "No mutation has occured in this cycle for the Galapagos finches.\n",
      "No mutation has occured in this cycle for the warrior ants.\n",
      "\n",
      "\n",
      "Population information:\n",
      "The current number of Galapagos finches is 39.\n",
      "The current number of warrior ants is 41.\n",
      "The total number of animals on the island is 80.\n"
     ]
    }
   ],
   "source": [
    "#Runs Cycle 4\n",
    "A_function()\n",
    "F_function()\n",
    "print(\"Births: \")\n",
    "BR_function()\n",
    "print(\"\\n\")\n",
    "print(\"Confrontations: \")\n",
    "confrontation_function_species1()\n",
    "confrontation_function_species2()\n",
    "print(\"\\n\")\n",
    "print(\"Mutations: \")\n",
    "M_function()\n",
    "print(\"\\n\")\n",
    "Hurricane_function()\n",
    "print(\"Population information:\")\n",
    "island_population()"
   ]
  },
  {
   "cell_type": "markdown",
   "id": "3cd9ad7f-5042-41bd-b287-a0c8b37c81bd",
   "metadata": {},
   "source": [
    "# Cycle 5 (Years 401 - 500)"
   ]
  },
  {
   "cell_type": "code",
   "execution_count": 13,
   "id": "3246c088-ae26-4341-aa95-49516ef5c656",
   "metadata": {
    "execution": {
     "iopub.execute_input": "2022-05-29T05:57:20.276857Z",
     "iopub.status.busy": "2022-05-29T05:57:20.276857Z",
     "iopub.status.idle": "2022-05-29T05:57:20.284238Z",
     "shell.execute_reply": "2022-05-29T05:57:20.283231Z",
     "shell.execute_reply.started": "2022-05-29T05:57:20.276857Z"
    },
    "tags": []
   },
   "outputs": [
    {
     "name": "stdout",
     "output_type": "stream",
     "text": [
      "Births: \n",
      "The Galapagos finches have birthed 24 new offspring.\n",
      "The warrior ants have birthed 21 new offspring.\n",
      "The island has reached maximum capacity. No new births can be supported, and some animals may have died due to low resources.\n",
      "\n",
      "\n",
      "Confrontations: \n",
      "The Galapagos finches population required more resources, prompting a confrontation with the warrior ants. The warrior ants have suffered 5 female deaths.\n",
      "The warrior ants population required more resources, prompting a confrontation with the Galapagos finches. The Galapagos finches have suffered 7 male deaths.\n",
      "\n",
      "\n",
      "Mutations: \n",
      "No mutation has occured in this cycle for the Galapagos finches.\n",
      "No mutation has occured in this cycle for the warrior ants.\n",
      "\n",
      "\n",
      "Population information:\n",
      "The current number of Galapagos finches is 43.\n",
      "The current number of warrior ants is 44.\n",
      "The total number of animals on the island is 87.\n"
     ]
    }
   ],
   "source": [
    "#Runs Cycle 5\n",
    "A_function()\n",
    "F_function()\n",
    "print(\"Births: \")\n",
    "BR_function()\n",
    "print(\"\\n\")\n",
    "print(\"Confrontations: \")\n",
    "confrontation_function_species1()\n",
    "confrontation_function_species2()\n",
    "print(\"\\n\")\n",
    "print(\"Mutations: \")\n",
    "M_function()\n",
    "print(\"\\n\")\n",
    "Hurricane_function()\n",
    "print(\"Population information:\")\n",
    "island_population()"
   ]
  },
  {
   "cell_type": "markdown",
   "id": "9602fa22-33d8-46c3-94fa-d87256ff97a7",
   "metadata": {},
   "source": [
    "# Cycle 6 (Years 501 - 600)"
   ]
  },
  {
   "cell_type": "code",
   "execution_count": 14,
   "id": "a4cda086-f4f3-4968-bd53-819fdfc3a026",
   "metadata": {
    "execution": {
     "iopub.execute_input": "2022-05-29T05:57:20.905103Z",
     "iopub.status.busy": "2022-05-29T05:57:20.905103Z",
     "iopub.status.idle": "2022-05-29T05:57:20.918162Z",
     "shell.execute_reply": "2022-05-29T05:57:20.917166Z",
     "shell.execute_reply.started": "2022-05-29T05:57:20.905103Z"
    },
    "tags": []
   },
   "outputs": [
    {
     "name": "stdout",
     "output_type": "stream",
     "text": [
      "Births: \n",
      "The Galapagos finches have birthed 22 new offspring.\n",
      "The warrior ants have birthed 24 new offspring.\n",
      "The island has reached maximum capacity. No new births can be supported, and some animals may have died due to low resources.\n",
      "\n",
      "\n",
      "Confrontations: \n",
      "The Galapagos finches population required more resources, prompting a confrontation with the warrior ants. The warrior ants have suffered 3 female deaths.\n",
      "The warrior ants population required more resources, prompting a confrontation with the Galapagos finches. The Galapagos finches have suffered 4 female deaths.\n",
      "\n",
      "\n",
      "Mutations: \n",
      "No mutation has occured in this cycle for the Galapagos finches.\n",
      "No mutation has occured in this cycle for the warrior ants.\n",
      "\n",
      "\n",
      "Population information:\n",
      "The current number of Galapagos finches is 44.\n",
      "The current number of warrior ants is 48.\n",
      "The total number of animals on the island is 92.\n"
     ]
    }
   ],
   "source": [
    "#Runs Cycle 6\n",
    "A_function()\n",
    "F_function()\n",
    "print(\"Births: \")\n",
    "BR_function()\n",
    "print(\"\\n\")\n",
    "print(\"Confrontations: \")\n",
    "confrontation_function_species1()\n",
    "confrontation_function_species2()\n",
    "print(\"\\n\")\n",
    "print(\"Mutations: \")\n",
    "M_function()\n",
    "print(\"\\n\")\n",
    "Hurricane_function()\n",
    "print(\"Population information:\")\n",
    "island_population()"
   ]
  },
  {
   "cell_type": "markdown",
   "id": "33923166-cccc-4d8c-a64f-a982ab18b2f6",
   "metadata": {},
   "source": [
    "# Cycle 7 (Years 601 - 700)"
   ]
  },
  {
   "cell_type": "code",
   "execution_count": 15,
   "id": "ee23279f-9156-4f2c-ba8d-522c42c81d4b",
   "metadata": {
    "execution": {
     "iopub.execute_input": "2022-05-29T05:57:21.606317Z",
     "iopub.status.busy": "2022-05-29T05:57:21.606317Z",
     "iopub.status.idle": "2022-05-29T05:57:21.614328Z",
     "shell.execute_reply": "2022-05-29T05:57:21.614328Z",
     "shell.execute_reply.started": "2022-05-29T05:57:21.606317Z"
    },
    "tags": []
   },
   "outputs": [
    {
     "name": "stdout",
     "output_type": "stream",
     "text": [
      "Births: \n",
      "The Galapagos finches have birthed 12 new offspring.\n",
      "The warrior ants have birthed 13 new offspring.\n",
      "The island has reached maximum capacity. No new births can be supported, and some animals may have died due to low resources.\n",
      "\n",
      "\n",
      "Confrontations: \n",
      "The Galapagos finches population required more resources, prompting a confrontation with the warrior ants. The warrior ants have suffered 11 male deaths.\n",
      "The warrior ants population required more resources, prompting a confrontation with the Galapagos finches. The Galapagos finches have suffered 9 male deaths.\n",
      "\n",
      "\n",
      "Mutations: \n",
      "No mutation has occured in this cycle for the Galapagos finches.\n",
      "No mutation has occured in this cycle for the warrior ants.\n",
      "\n",
      "\n",
      "Population information:\n",
      "The current number of Galapagos finches is 38.\n",
      "The current number of warrior ants is 41.\n",
      "The total number of animals on the island is 79.\n"
     ]
    }
   ],
   "source": [
    "#Runs Cycle 7\n",
    "A_function()\n",
    "F_function()\n",
    "print(\"Births: \")\n",
    "BR_function()\n",
    "print(\"\\n\")\n",
    "print(\"Confrontations: \")\n",
    "confrontation_function_species1()\n",
    "confrontation_function_species2()\n",
    "print(\"\\n\")\n",
    "print(\"Mutations: \")\n",
    "M_function()\n",
    "print(\"\\n\")\n",
    "Hurricane_function()\n",
    "print(\"Population information:\")\n",
    "island_population()"
   ]
  },
  {
   "cell_type": "markdown",
   "id": "cd759f24-4781-4c45-a2bc-0019c4aa315b",
   "metadata": {},
   "source": [
    "# Cycle 8 (Years 701 - 800)"
   ]
  },
  {
   "cell_type": "code",
   "execution_count": 16,
   "id": "280dc94c-60db-40be-95f3-bcf504177475",
   "metadata": {
    "execution": {
     "iopub.execute_input": "2022-05-29T05:57:22.270225Z",
     "iopub.status.busy": "2022-05-29T05:57:22.270225Z",
     "iopub.status.idle": "2022-05-29T05:57:22.291864Z",
     "shell.execute_reply": "2022-05-29T05:57:22.290498Z",
     "shell.execute_reply.started": "2022-05-29T05:57:22.270225Z"
    },
    "tags": []
   },
   "outputs": [
    {
     "name": "stdout",
     "output_type": "stream",
     "text": [
      "Births: \n",
      "The Galapagos finches have birthed 6 new offspring.\n",
      "The warrior ants have birthed 8 new offspring.\n",
      "\n",
      "\n",
      "Confrontations: \n",
      "The Galapagos finches population required more resources, prompting a confrontation with the warrior ants. The warrior ants have suffered 9 male deaths.\n",
      "The warrior ants population required more resources, prompting a confrontation with the Galapagos finches. The Galapagos finches have suffered 8 male deaths.\n",
      "\n",
      "\n",
      "Mutations: \n",
      "No mutation has occured in this cycle for the Galapagos finches.\n",
      "No mutation has occured in this cycle for the warrior ants.\n",
      "\n",
      "\n",
      "Population information:\n",
      "The current number of Galapagos finches is 36.\n",
      "The current number of warrior ants is 40.\n",
      "The total number of animals on the island is 76.\n"
     ]
    }
   ],
   "source": [
    "#Runs Cycle 8\n",
    "A_function()\n",
    "F_function()\n",
    "print(\"Births: \")\n",
    "BR_function()\n",
    "print(\"\\n\")\n",
    "print(\"Confrontations: \")\n",
    "confrontation_function_species1()\n",
    "confrontation_function_species2()\n",
    "print(\"\\n\")\n",
    "print(\"Mutations: \")\n",
    "M_function()\n",
    "print(\"\\n\")\n",
    "Hurricane_function()\n",
    "print(\"Population information:\")\n",
    "island_population()"
   ]
  },
  {
   "cell_type": "markdown",
   "id": "a737e928-40e1-4402-81fc-905fa5d35c49",
   "metadata": {},
   "source": [
    "# Cycle 9 (Years 801 - 900)"
   ]
  },
  {
   "cell_type": "code",
   "execution_count": 17,
   "id": "c09bcf83-9812-4a7f-88dc-68ec9a77ae86",
   "metadata": {
    "execution": {
     "iopub.execute_input": "2022-05-29T05:57:22.912332Z",
     "iopub.status.busy": "2022-05-29T05:57:22.912332Z",
     "iopub.status.idle": "2022-05-29T05:57:22.928910Z",
     "shell.execute_reply": "2022-05-29T05:57:22.927939Z",
     "shell.execute_reply.started": "2022-05-29T05:57:22.912332Z"
    },
    "tags": []
   },
   "outputs": [
    {
     "name": "stdout",
     "output_type": "stream",
     "text": [
      "Births: \n",
      "The Galapagos finches have birthed 18 new offspring.\n",
      "The warrior ants have birthed 6 new offspring.\n",
      "The island has reached maximum capacity. No new births can be supported, and some animals may have died due to low resources.\n",
      "\n",
      "\n",
      "Confrontations: \n",
      "The Galapagos finches population required more resources, prompting a confrontation with the warrior ants. The warrior ants have suffered 8 male deaths.\n",
      "The warrior ants prompted no confrontation due to resource availability.\n",
      "\n",
      "\n",
      "Mutations: \n",
      "The Galapagos finches have evolved the trait Larger Beak during this cycle.\n",
      "No mutation has occured in this cycle for the warrior ants.\n",
      "\n",
      "\n",
      "Population information:\n",
      "The current number of Galapagos finches is 54.\n",
      "The current number of warrior ants is 38.\n",
      "The total number of animals on the island is 92.\n"
     ]
    }
   ],
   "source": [
    "#Runs Cycle 9\n",
    "A_function()\n",
    "F_function()\n",
    "print(\"Births: \")\n",
    "BR_function()\n",
    "print(\"\\n\")\n",
    "print(\"Confrontations: \")\n",
    "confrontation_function_species1()\n",
    "confrontation_function_species2()\n",
    "print(\"\\n\")\n",
    "print(\"Mutations: \")\n",
    "M_function()\n",
    "print(\"\\n\")\n",
    "Hurricane_function()\n",
    "print(\"Population information:\")\n",
    "island_population()"
   ]
  },
  {
   "cell_type": "markdown",
   "id": "1a6fcb7c-26e7-4b52-929a-e8aa0ae47de4",
   "metadata": {},
   "source": [
    "# Cycle 10 (Years 901 - 1000)"
   ]
  },
  {
   "cell_type": "code",
   "execution_count": 18,
   "id": "1aee3417-f790-4c40-ad57-fc3657bc6ab7",
   "metadata": {
    "execution": {
     "iopub.execute_input": "2022-05-29T05:57:23.589492Z",
     "iopub.status.busy": "2022-05-29T05:57:23.588495Z",
     "iopub.status.idle": "2022-05-29T05:57:23.595475Z",
     "shell.execute_reply": "2022-05-29T05:57:23.595475Z",
     "shell.execute_reply.started": "2022-05-29T05:57:23.589492Z"
    },
    "tags": []
   },
   "outputs": [
    {
     "name": "stdout",
     "output_type": "stream",
     "text": [
      "Births: \n",
      "The Galapagos finches have birthed 21 new offspring.\n",
      "The warrior ants have birthed 12 new offspring.\n",
      "The island has reached maximum capacity. No new births can be supported, and some animals may have died due to low resources.\n",
      "\n",
      "\n",
      "Confrontations: \n",
      "The Galapagos finches population required more resources, prompting a confrontation with the warrior ants. The warrior ants have suffered 8 male deaths.\n",
      "The warrior ants prompted no confrontation due to resource availability.\n",
      "\n",
      "\n",
      "Mutations: \n",
      "The Galapagos finches have evolved the trait Curved Beak during this cycle.\n",
      "No mutation has occured in this cycle for the warrior ants.\n",
      "\n",
      "\n",
      "Population information:\n",
      "The current number of Galapagos finches is 62.\n",
      "The current number of warrior ants is 29.\n",
      "The total number of animals on the island is 91.\n"
     ]
    }
   ],
   "source": [
    "#Runs Cycle 10\n",
    "A_function()\n",
    "F_function()\n",
    "print(\"Births: \")\n",
    "BR_function()\n",
    "print(\"\\n\")\n",
    "print(\"Confrontations: \")\n",
    "confrontation_function_species1()\n",
    "confrontation_function_species2()\n",
    "print(\"\\n\")\n",
    "print(\"Mutations: \")\n",
    "M_function()\n",
    "print(\"\\n\")\n",
    "Hurricane_function()\n",
    "print(\"Population information:\")\n",
    "island_population()"
   ]
  },
  {
   "cell_type": "markdown",
   "id": "44b8726f-25bf-4d2e-bf92-6fe64bc853d5",
   "metadata": {},
   "source": [
    "---"
   ]
  },
  {
   "cell_type": "markdown",
   "id": "b7710897-00af-4673-a911-f1a666f9589a",
   "metadata": {},
   "source": [
    "## Conclusion\n",
    "- This simulation has been an in-class example of fictitious natural selection events.\n",
    "\n",
    "- Students should review their findings, and discuss their unique outcomes with their classmates."
   ]
  },
  {
   "cell_type": "markdown",
   "id": "b58172ef-adc3-4c63-a261-beb48be50bb4",
   "metadata": {},
   "source": [
    "### Sources Cited"
   ]
  },
  {
   "cell_type": "markdown",
   "id": "89b4dc55-2546-4874-8f93-a7d9089bdf16",
   "metadata": {},
   "source": [
    "\n",
    "\n",
    "Braybury: https://sciencing.com/four-factors-natural-selection-8140305.html\n",
    "\n",
    "White: https://examples.yourdictionary.com/examples-of-natural-selection.html"
   ]
  },
  {
   "cell_type": "code",
   "execution_count": null,
   "id": "e340b47e-68de-405c-b551-ce47421fb094",
   "metadata": {},
   "outputs": [],
   "source": []
  }
 ],
 "metadata": {
  "kernelspec": {
   "display_name": "Python 3",
   "language": "python",
   "name": "python3"
  },
  "language_info": {
   "codemirror_mode": {
    "name": "ipython",
    "version": 3
   },
   "file_extension": ".py",
   "mimetype": "text/x-python",
   "name": "python",
   "nbconvert_exporter": "python",
   "pygments_lexer": "ipython3",
   "version": "3.8.8"
  }
 },
 "nbformat": 4,
 "nbformat_minor": 5
}
